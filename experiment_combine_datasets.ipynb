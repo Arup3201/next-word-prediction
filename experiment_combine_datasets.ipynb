{
  "nbformat": 4,
  "nbformat_minor": 0,
  "metadata": {
    "colab": {
      "provenance": [],
      "authorship_tag": "ABX9TyP8wPPiE8q49T+KqpezTIl/",
      "include_colab_link": true
    },
    "kernelspec": {
      "name": "python3",
      "display_name": "Python 3"
    },
    "language_info": {
      "name": "python"
    }
  },
  "cells": [
    {
      "cell_type": "markdown",
      "metadata": {
        "id": "view-in-github",
        "colab_type": "text"
      },
      "source": [
        "<a href=\"https://colab.research.google.com/github/Arup3201/next-word-prediction/blob/main/experiment_combine_datasets.ipynb\" target=\"_parent\"><img src=\"https://colab.research.google.com/assets/colab-badge.svg\" alt=\"Open In Colab\"/></a>"
      ]
    },
    {
      "cell_type": "code",
      "source": [
        "from google.colab import files\n",
        "files.upload()"
      ],
      "metadata": {
        "id": "z2CXR1jARVPC",
        "outputId": "63fb2398-8f33-432e-80f7-05dcd1ce8b62",
        "colab": {
          "base_uri": "https://localhost:8080/",
          "height": 91
        }
      },
      "execution_count": 1,
      "outputs": [
        {
          "output_type": "display_data",
          "data": {
            "text/plain": [
              "<IPython.core.display.HTML object>"
            ],
            "text/html": [
              "\n",
              "     <input type=\"file\" id=\"files-7a331acf-c46e-42b3-b86e-8f870546f6ae\" name=\"files[]\" multiple disabled\n",
              "        style=\"border:none\" />\n",
              "     <output id=\"result-7a331acf-c46e-42b3-b86e-8f870546f6ae\">\n",
              "      Upload widget is only available when the cell has been executed in the\n",
              "      current browser session. Please rerun this cell to enable.\n",
              "      </output>\n",
              "      <script>// Copyright 2017 Google LLC\n",
              "//\n",
              "// Licensed under the Apache License, Version 2.0 (the \"License\");\n",
              "// you may not use this file except in compliance with the License.\n",
              "// You may obtain a copy of the License at\n",
              "//\n",
              "//      http://www.apache.org/licenses/LICENSE-2.0\n",
              "//\n",
              "// Unless required by applicable law or agreed to in writing, software\n",
              "// distributed under the License is distributed on an \"AS IS\" BASIS,\n",
              "// WITHOUT WARRANTIES OR CONDITIONS OF ANY KIND, either express or implied.\n",
              "// See the License for the specific language governing permissions and\n",
              "// limitations under the License.\n",
              "\n",
              "/**\n",
              " * @fileoverview Helpers for google.colab Python module.\n",
              " */\n",
              "(function(scope) {\n",
              "function span(text, styleAttributes = {}) {\n",
              "  const element = document.createElement('span');\n",
              "  element.textContent = text;\n",
              "  for (const key of Object.keys(styleAttributes)) {\n",
              "    element.style[key] = styleAttributes[key];\n",
              "  }\n",
              "  return element;\n",
              "}\n",
              "\n",
              "// Max number of bytes which will be uploaded at a time.\n",
              "const MAX_PAYLOAD_SIZE = 100 * 1024;\n",
              "\n",
              "function _uploadFiles(inputId, outputId) {\n",
              "  const steps = uploadFilesStep(inputId, outputId);\n",
              "  const outputElement = document.getElementById(outputId);\n",
              "  // Cache steps on the outputElement to make it available for the next call\n",
              "  // to uploadFilesContinue from Python.\n",
              "  outputElement.steps = steps;\n",
              "\n",
              "  return _uploadFilesContinue(outputId);\n",
              "}\n",
              "\n",
              "// This is roughly an async generator (not supported in the browser yet),\n",
              "// where there are multiple asynchronous steps and the Python side is going\n",
              "// to poll for completion of each step.\n",
              "// This uses a Promise to block the python side on completion of each step,\n",
              "// then passes the result of the previous step as the input to the next step.\n",
              "function _uploadFilesContinue(outputId) {\n",
              "  const outputElement = document.getElementById(outputId);\n",
              "  const steps = outputElement.steps;\n",
              "\n",
              "  const next = steps.next(outputElement.lastPromiseValue);\n",
              "  return Promise.resolve(next.value.promise).then((value) => {\n",
              "    // Cache the last promise value to make it available to the next\n",
              "    // step of the generator.\n",
              "    outputElement.lastPromiseValue = value;\n",
              "    return next.value.response;\n",
              "  });\n",
              "}\n",
              "\n",
              "/**\n",
              " * Generator function which is called between each async step of the upload\n",
              " * process.\n",
              " * @param {string} inputId Element ID of the input file picker element.\n",
              " * @param {string} outputId Element ID of the output display.\n",
              " * @return {!Iterable<!Object>} Iterable of next steps.\n",
              " */\n",
              "function* uploadFilesStep(inputId, outputId) {\n",
              "  const inputElement = document.getElementById(inputId);\n",
              "  inputElement.disabled = false;\n",
              "\n",
              "  const outputElement = document.getElementById(outputId);\n",
              "  outputElement.innerHTML = '';\n",
              "\n",
              "  const pickedPromise = new Promise((resolve) => {\n",
              "    inputElement.addEventListener('change', (e) => {\n",
              "      resolve(e.target.files);\n",
              "    });\n",
              "  });\n",
              "\n",
              "  const cancel = document.createElement('button');\n",
              "  inputElement.parentElement.appendChild(cancel);\n",
              "  cancel.textContent = 'Cancel upload';\n",
              "  const cancelPromise = new Promise((resolve) => {\n",
              "    cancel.onclick = () => {\n",
              "      resolve(null);\n",
              "    };\n",
              "  });\n",
              "\n",
              "  // Wait for the user to pick the files.\n",
              "  const files = yield {\n",
              "    promise: Promise.race([pickedPromise, cancelPromise]),\n",
              "    response: {\n",
              "      action: 'starting',\n",
              "    }\n",
              "  };\n",
              "\n",
              "  cancel.remove();\n",
              "\n",
              "  // Disable the input element since further picks are not allowed.\n",
              "  inputElement.disabled = true;\n",
              "\n",
              "  if (!files) {\n",
              "    return {\n",
              "      response: {\n",
              "        action: 'complete',\n",
              "      }\n",
              "    };\n",
              "  }\n",
              "\n",
              "  for (const file of files) {\n",
              "    const li = document.createElement('li');\n",
              "    li.append(span(file.name, {fontWeight: 'bold'}));\n",
              "    li.append(span(\n",
              "        `(${file.type || 'n/a'}) - ${file.size} bytes, ` +\n",
              "        `last modified: ${\n",
              "            file.lastModifiedDate ? file.lastModifiedDate.toLocaleDateString() :\n",
              "                                    'n/a'} - `));\n",
              "    const percent = span('0% done');\n",
              "    li.appendChild(percent);\n",
              "\n",
              "    outputElement.appendChild(li);\n",
              "\n",
              "    const fileDataPromise = new Promise((resolve) => {\n",
              "      const reader = new FileReader();\n",
              "      reader.onload = (e) => {\n",
              "        resolve(e.target.result);\n",
              "      };\n",
              "      reader.readAsArrayBuffer(file);\n",
              "    });\n",
              "    // Wait for the data to be ready.\n",
              "    let fileData = yield {\n",
              "      promise: fileDataPromise,\n",
              "      response: {\n",
              "        action: 'continue',\n",
              "      }\n",
              "    };\n",
              "\n",
              "    // Use a chunked sending to avoid message size limits. See b/62115660.\n",
              "    let position = 0;\n",
              "    do {\n",
              "      const length = Math.min(fileData.byteLength - position, MAX_PAYLOAD_SIZE);\n",
              "      const chunk = new Uint8Array(fileData, position, length);\n",
              "      position += length;\n",
              "\n",
              "      const base64 = btoa(String.fromCharCode.apply(null, chunk));\n",
              "      yield {\n",
              "        response: {\n",
              "          action: 'append',\n",
              "          file: file.name,\n",
              "          data: base64,\n",
              "        },\n",
              "      };\n",
              "\n",
              "      let percentDone = fileData.byteLength === 0 ?\n",
              "          100 :\n",
              "          Math.round((position / fileData.byteLength) * 100);\n",
              "      percent.textContent = `${percentDone}% done`;\n",
              "\n",
              "    } while (position < fileData.byteLength);\n",
              "  }\n",
              "\n",
              "  // All done.\n",
              "  yield {\n",
              "    response: {\n",
              "      action: 'complete',\n",
              "    }\n",
              "  };\n",
              "}\n",
              "\n",
              "scope.google = scope.google || {};\n",
              "scope.google.colab = scope.google.colab || {};\n",
              "scope.google.colab._files = {\n",
              "  _uploadFiles,\n",
              "  _uploadFilesContinue,\n",
              "};\n",
              "})(self);\n",
              "</script> "
            ]
          },
          "metadata": {}
        },
        {
          "output_type": "stream",
          "name": "stdout",
          "text": [
            "Saving kaggle.json to kaggle.json\n"
          ]
        },
        {
          "output_type": "execute_result",
          "data": {
            "text/plain": [
              "{'kaggle.json': b'{\"username\":\"arup7365\",\"key\":\"a864633763dba1f6a159aa4a09cbee5f\"}'}"
            ]
          },
          "metadata": {},
          "execution_count": 1
        }
      ]
    },
    {
      "cell_type": "markdown",
      "source": [
        "**20-newsgroups dataset**"
      ],
      "metadata": {
        "id": "gcWUrUeFUqa4"
      }
    },
    {
      "cell_type": "code",
      "source": [
        "!mkdir /root/.kaggle\n",
        "!cp /content/kaggle.json /root/.kaggle/\n",
        "!rm /content/kaggle.json\n",
        "!chmod 600 /root/.kaggle/kaggle.json\n",
        "!kaggle datasets download -d crawford/20-newsgroups"
      ],
      "metadata": {
        "id": "F3UILhZ8SiM-",
        "outputId": "7bca5dd9-3eaf-43b9-d257-9f6f812c0905",
        "colab": {
          "base_uri": "https://localhost:8080/"
        }
      },
      "execution_count": 2,
      "outputs": [
        {
          "output_type": "stream",
          "name": "stdout",
          "text": [
            "Downloading 20-newsgroups.zip to /content\n",
            " 66% 17.0M/25.7M [00:00<00:00, 71.2MB/s]\n",
            "100% 25.7M/25.7M [00:00<00:00, 88.6MB/s]\n"
          ]
        }
      ]
    },
    {
      "cell_type": "code",
      "source": [
        "!mkdir /content/datasets\n",
        "!mkdir /content/datasets/20-newsgroups-data/\n",
        "!unzip /content/20-newsgroups.zip -d /content/datasets/20-newsgroups-data/\n",
        "!rm -r /content/20-newsgroups.zip"
      ],
      "metadata": {
        "id": "g0kVvRwtS-3C",
        "outputId": "e00546b6-909c-47c7-d1dc-54e77e1ddc73",
        "colab": {
          "base_uri": "https://localhost:8080/"
        }
      },
      "execution_count": 3,
      "outputs": [
        {
          "output_type": "stream",
          "name": "stdout",
          "text": [
            "Archive:  /content/20-newsgroups.zip\n",
            "  inflating: /content/datasets/20-newsgroups-data/alt.atheism.txt  \n",
            "  inflating: /content/datasets/20-newsgroups-data/comp.graphics.txt  \n",
            "  inflating: /content/datasets/20-newsgroups-data/comp.os.ms-windows.misc.txt  \n",
            "  inflating: /content/datasets/20-newsgroups-data/comp.sys.ibm.pc.hardware.txt  \n",
            "  inflating: /content/datasets/20-newsgroups-data/comp.sys.mac.hardware.txt  \n",
            "  inflating: /content/datasets/20-newsgroups-data/comp.windows.x.txt  \n",
            "  inflating: /content/datasets/20-newsgroups-data/list.csv  \n",
            "  inflating: /content/datasets/20-newsgroups-data/misc.forsale.txt  \n",
            "  inflating: /content/datasets/20-newsgroups-data/rec.autos.txt  \n",
            "  inflating: /content/datasets/20-newsgroups-data/rec.motorcycles.txt  \n",
            "  inflating: /content/datasets/20-newsgroups-data/rec.sport.baseball.txt  \n",
            "  inflating: /content/datasets/20-newsgroups-data/rec.sport.hockey.txt  \n",
            "  inflating: /content/datasets/20-newsgroups-data/sci.crypt.txt  \n",
            "  inflating: /content/datasets/20-newsgroups-data/sci.electronics.txt  \n",
            "  inflating: /content/datasets/20-newsgroups-data/sci.med.txt  \n",
            "  inflating: /content/datasets/20-newsgroups-data/sci.space.txt  \n",
            "  inflating: /content/datasets/20-newsgroups-data/soc.religion.christian.txt  \n",
            "  inflating: /content/datasets/20-newsgroups-data/talk.politics.guns.txt  \n",
            "  inflating: /content/datasets/20-newsgroups-data/talk.politics.mideast.txt  \n",
            "  inflating: /content/datasets/20-newsgroups-data/talk.politics.misc.txt  \n",
            "  inflating: /content/datasets/20-newsgroups-data/talk.religion.misc.txt  \n"
          ]
        }
      ]
    },
    {
      "cell_type": "markdown",
      "source": [
        "**Open the .txt files and look into them**"
      ],
      "metadata": {
        "id": "u6DTYPKAVKE9"
      }
    },
    {
      "cell_type": "code",
      "source": [
        "import os"
      ],
      "metadata": {
        "id": "BKn4yBuiVqMX"
      },
      "execution_count": 4,
      "outputs": []
    },
    {
      "cell_type": "code",
      "source": [
        "txt_files_path = \"/content/datasets/20-newsgroups-data/\"\n",
        "file_name = \"alt.atheism.txt\"\n",
        "\n",
        "with open(os.path.join(txt_files_path, file_name), 'r', encoding=\"latin1\") as f:\n",
        "  contents = f.read()\n",
        "\n",
        "len(contents)"
      ],
      "metadata": {
        "id": "_cQAiRoOTMRw",
        "outputId": "ccbaa186-ba5c-4f0b-88b5-5d8797e353cb",
        "colab": {
          "base_uri": "https://localhost:8080/"
        }
      },
      "execution_count": 12,
      "outputs": [
        {
          "output_type": "stream",
          "name": "stdout",
          "text": [
            "5068467\n"
          ]
        }
      ]
    },
    {
      "cell_type": "markdown",
      "source": [
        "**Download IMDB dataset**"
      ],
      "metadata": {
        "id": "JXtOw3xyZkXh"
      }
    },
    {
      "cell_type": "code",
      "source": [
        "!kaggle datasets download -d lakshmi25npathi/imdb-dataset-of-50k-movie-reviews\n",
        "\n",
        "!mkdir /content/datasets/imdb-dataset\n",
        "!unzip imdb-dataset-of-50k-movie-reviews.zip -d /content/datasets/imdb-dataset/"
      ],
      "metadata": {
        "id": "IFnERr9gTPSI",
        "outputId": "38188fed-1d4f-4545-8708-9bf6e297bd79",
        "colab": {
          "base_uri": "https://localhost:8080/"
        }
      },
      "execution_count": 13,
      "outputs": [
        {
          "output_type": "stream",
          "name": "stdout",
          "text": [
            "Downloading imdb-dataset-of-50k-movie-reviews.zip to /content\n",
            "\r  0% 0.00/25.7M [00:00<?, ?B/s]\r 58% 15.0M/25.7M [00:00<00:00, 151MB/s]\n",
            "\r100% 25.7M/25.7M [00:00<00:00, 143MB/s]\n",
            "Archive:  imdb-dataset-of-50k-movie-reviews.zip\n",
            "  inflating: /content/datasets/imdb-dataset/IMDB Dataset.csv  \n"
          ]
        }
      ]
    },
    {
      "cell_type": "code",
      "source": [
        "import subprocess"
      ],
      "metadata": {
        "id": "0hrglSGmby-V"
      },
      "execution_count": 14,
      "outputs": []
    },
    {
      "cell_type": "code",
      "source": [
        "command = ['mkdir', 'test']\n",
        "subprocess.run(command)"
      ],
      "metadata": {
        "id": "EBnKCX1Cb0_Z",
        "outputId": "de29a240-9f9a-44f9-f6d0-ddbbbd9a89a1",
        "colab": {
          "base_uri": "https://localhost:8080/"
        }
      },
      "execution_count": 15,
      "outputs": [
        {
          "output_type": "execute_result",
          "data": {
            "text/plain": [
              "CompletedProcess(args=['mkdir', 'test'], returncode=0)"
            ]
          },
          "metadata": {},
          "execution_count": 15
        }
      ]
    }
  ]
}